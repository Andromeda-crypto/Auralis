{
 "cells": [
  {
   "cell_type": "code",
   "execution_count": null,
   "id": "91ec1016",
   "metadata": {},
   "outputs": [],
   "source": [
    "import joblib\n",
    "import numpy as np\n",
    "import pandas as pd\n",
    "from sklearn.model_selection import train_test_split, StratifiedKFold, cross_val_score\n",
    "from sklearn.metrics import classification_report, roc_auc_score\n",
    "from sklearn.neural_network import MLPClassifier\n",
    "\n",
    "df = pd.read_csv(\"/Users/omanand/Auralis/data/processed/cleaned_data.csv\")\n",
    "\n",
    "X = df.drop(columns=[\"stability_label\"])\n",
    "y = df[\"stability_label\"]\n",
    "\n",
    "X_train, X_test, y_train, y_test = train_test_split(X,y,test_size=0.25,random_state=42, stratify=y)\n",
    "\n",
    "\n",
    "mlp = MLPClassifier(\n",
    "    hidden_layer_sizes=(64,32),\n",
    "    activation=\"relu\",\n",
    "    solver=\"adam\", \n",
    "    max_iter=500,\n",
    "    random_state=42\n",
    "    )\n",
    "\n",
    "mlp.fit(X_train,y_train)\n",
    "\n",
    "y_pred = mlp.predict(X_test)\n",
    "y_prob = mlp.predict_proba(X_test)[:, 1]\n",
    "\n",
    "\n",
    "print(\"Neural-style Model Performance\")\n",
    "print(classification_report(y_test, y_pred))\n",
    "print(f\"ROC-AUC Score: {roc_auc_score(y_test, y_pred)}\\n\")\n",
    "\n",
    "\n",
    "cv = StratifiedKFold(n_splits=5, shuffle=True, random_state=42)\n",
    "cv_scores = cross_val_score(mlp, X, y, cv=cv, scoring=\"roc_auc\")\n",
    "print(\"CV ROC-AUC scores:\", cv_scores)\n",
    "print(\"CV Mean ROC-AUC:\", cv_scores.mean())\n",
    "\n",
    "# Save model\n",
    "joblib.dump(mlp, \"/Users/omanand/Auralis/models/neural_instability_predictor.pkl\")"
   ]
  }
 ],
 "metadata": {
  "kernelspec": {
   "display_name": ".venv",
   "language": "python",
   "name": "python3"
  },
  "language_info": {
   "codemirror_mode": {
    "name": "ipython",
    "version": 3
   },
   "file_extension": ".py",
   "mimetype": "text/x-python",
   "name": "python",
   "nbconvert_exporter": "python",
   "pygments_lexer": "ipython3",
   "version": "3.13.2"
  }
 },
 "nbformat": 4,
 "nbformat_minor": 5
}
